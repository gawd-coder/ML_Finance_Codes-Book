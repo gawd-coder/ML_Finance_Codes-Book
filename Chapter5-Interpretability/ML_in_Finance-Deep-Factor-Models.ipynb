{
 "cells": [
  {
   "cell_type": "code",
   "execution_count": 1,
   "metadata": {},
   "outputs": [],
   "source": [
    "# ML_in_Finance-Deep-Factor-Models\n",
    "# Author: Matthew Dixon\n",
    "# Version: 1.0 (24.7.2019)\n",
    "# License: MIT\n",
    "# Email: matthew.dixon@iit.edu\n",
    "# Notes: tested on Mac OS X with Python 3.6.9 and the following packages:\n",
    "# numpy=1.18.1, keras=2.3.1, tensorflow=2.0.0, matplotlib=3.1.3, statsmodels=0.10.1, scikit-learn=0.22.1\n",
    "# Citation: Please cite the following reference if this notebook is used for research purposes:\n",
    "# Dixon M.F., I. Halperin and P. Bilokon, Machine Learning in Finance: From Theory to Practice, Springer Graduate textbook Series, 2020. "
   ]
  },
  {
   "cell_type": "markdown",
   "metadata": {},
   "source": [
    "# Overview"
   ]
  },
  {
   "cell_type": "markdown",
   "metadata": {},
   "source": [
    "The purpose of this notebook is to demonstrate the application of deep learning to fundamental factor modeling. The outputs are monthly excess returns, the inputs are fundamental factor loadings (BARRA style). The data provided has already been normalized. \n",
    "\n",
    "The notebook describes the data loading, training using walk-forward optimization, performance evaluation and comparison with ordinary least squares (OLS) regression. The toy dataset consists of 6 fundamental factors for 218 stocks over a 100 month period starting in February 2008. \n",
    "\n",
    "See the description of the smaller dataset described in Section 6.2 of Chpt 5. See Table 5.4 for a description of the factors."
   ]
  },
  {
   "cell_type": "code",
   "execution_count": 10,
   "metadata": {
    "scrolled": true
   },
   "outputs": [],
   "source": [
    "import pandas as pd\n",
    "import numpy as np\n",
    "from keras.models import Sequential\n",
    "from keras.layers import Dense, Dropout\n",
    "from keras.regularizers import l1\n",
    "from keras.wrappers.scikit_learn import KerasRegressor\n",
    "from sklearn.model_selection import GridSearchCV\n",
    "import matplotlib.pyplot as plt\n",
    "from sklearn.metrics import mean_squared_error\n",
    "from keras.callbacks import EarlyStopping\n",
    "import timeit\n",
    "import statsmodels.api as sm\n",
    "from dateutil.relativedelta import relativedelta\n",
    "\n",
    "%matplotlib inline "
   ]
  },
  {
   "cell_type": "markdown",
   "metadata": {},
   "source": [
    "### Define a deep neural network (with $L-1$ hidden layers) model in Keras"
   ]
  },
  {
   "cell_type": "markdown",
   "metadata": {},
   "source": [
    "We define functions for the creation, training, and optional parameter tuning of the model. "
   ]
  },
  {
   "cell_type": "code",
   "execution_count": 11,
   "metadata": {},
   "outputs": [],
   "source": [
    "def NN(n_inputs, n_units=10, dropout=0.1, l1_reg=0.001, activation='relu', L=2):\n",
    "    # L>0 is the number of hidden layers\n",
    "    \n",
    "    model = Sequential()\n",
    "    model.add(Dense(units=n_units, input_dim=n_inputs, kernel_regularizer=l1(l1_reg), kernel_initializer='normal', activation=activation))\n",
    "    model.add(Dropout(dropout))\n",
    "    for i in range (0, L-1):\n",
    "        model.add(Dense(units=n_units, kernel_regularizer=l1(l1_reg), kernel_initializer='normal', activation=activation))\n",
    "        model.add(Dropout(dropout))\n",
    "    model.add(Dense(1, kernel_initializer='normal')) \n",
    "    model.compile(loss='mean_squared_error', optimizer='adam', metrics=['mae'])\n",
    "    return model"
   ]
  },
  {
   "cell_type": "code",
   "execution_count": 12,
   "metadata": {},
   "outputs": [],
   "source": [
    "es = EarlyStopping(monitor='loss', mode='min', verbose=1, patience=3)"
   ]
  },
  {
   "cell_type": "markdown",
   "metadata": {},
   "source": [
    "This function selects the best-performing combination of parameter values in `param_grid` cross-validated over `cv` folds"
   ]
  },
  {
   "cell_type": "code",
   "execution_count": 6,
   "metadata": {},
   "outputs": [],
   "source": [
    "def parameter_tuning(X, y, cv=3, n_epochs=100, n_batch=10, seed=7):\n",
    "    param_grid = dict(n_inputs=[X.shape[1]], n_units=[10, 20, 50], \n",
    "                      l1_reg = [0, 0.0001, 0.001], activation=['relu','tanh']) \n",
    "    estimator = KerasRegressor(build_fn=NN, epochs=n_epochs, batch_size=n_batch, verbose=0)   \n",
    "    grid = GridSearchCV(estimator=estimator, param_grid=param_grid, \n",
    "                        cv=cv)\n",
    "    grid_result = grid.fit(X, y, callbacks=[es])\n",
    "  \n",
    "    print(\"Best: %f using %s\" % (grid_result.best_score_, grid_result.best_params_))\n",
    "    means = grid_result.cv_results_['mean_test_score']\n",
    "    stds = grid_result.cv_results_['std_test_score']\n",
    "    params = grid_result.cv_results_['params']\n",
    "    for mean, stdev, param in zip(means, stds, params):\n",
    "        print(\"%f (%f) with: %r\" % (mean, stdev, param))\n",
    "    return grid_result.best_params_"
   ]
  },
  {
   "cell_type": "code",
   "execution_count": 7,
   "metadata": {},
   "outputs": [],
   "source": [
    "def training(X, Y, training_dates, L, tune=False):\n",
    " \n",
    "    n_epochs = 100 # maximum number of epochs (to be used with early stopping)\n",
    "    n_batch = 10 # mini-batch size\n",
    "    drop_out = 0.0 # level of dropout (set between 0 and 1)\n",
    "    n_units = 10   \n",
    "    l1_reg = 0.001 # L_1 regularization parameter\n",
    "    activation = 'tanh'\n",
    "\n",
    "    # Create the dictionaries to hold the results\n",
    "    models = {}\n",
    "    models['linear'] = []\n",
    "    models['NN'] = []\n",
    "\n",
    "    xs = {}\n",
    "    xs['train'] = []\n",
    "    xs['test'] = []\n",
    "    \n",
    "    ys = {}\n",
    "    ys['train'] = []\n",
    "    ys['test'] = []\n",
    "    \n",
    "    betas = {}\n",
    "    betas['NN'] = []\n",
    "    betas['linear'] = []\n",
    "\n",
    "    i = 0\n",
    "    for date in training_dates:\n",
    "        start_time = timeit.default_timer()  \n",
    "        print(i, date)\n",
    "        \n",
    "        # The following month's date (for the test set)\n",
    "        date_next = pd.Timestamp(np.datetime64(date)).to_pydatetime() + relativedelta(months=+1)\n",
    "        date_next = date_next.strftime('%Y-%m-%d')\n",
    "\n",
    "        # Get the indices of the training and testing points\n",
    "        train_index = X[X['date'] == date].index\n",
    "        test_index  = X[X['date'] == date_next].index\n",
    "        \n",
    "        # Skip the model if either the train or test sets would be empty\n",
    "        if len(train_index) == 0 or len(test_index) == 0:\n",
    "            continue\n",
    "\n",
    "        # Make the train and test sets\n",
    "        x_train = X.loc[train_index]\n",
    "        x_train = x_train.drop(\"date\", axis=1)\n",
    "        y_train = Y.loc[train_index]\n",
    "        y_train= y_train.drop(\"date\", axis=1)\n",
    "        x_test = X.loc[test_index]\n",
    "        x_test = x_test.drop(\"date\", axis=1)\n",
    "        y_test = Y.loc[test_index]\n",
    "        y_test = y_test.drop(\"date\", axis=1)\n",
    "        \n",
    "        n_inputs = x_train.shape[1]\n",
    "        if n_inputs == 0:\n",
    "            continue\n",
    "       \n",
    "        if tune: # Only perform parameter tuning once\n",
    "            print(\"Parameter tuning with X-validation...\")\n",
    "            best_params = parameter_tuning(x_train, y_train, 3)\n",
    "            n_units = best_params['n_units']\n",
    "            l1_reg = best_params['l1_reg']\n",
    "            activation = best_params['activation']\n",
    "            tune = False\n",
    "        \n",
    "        # Create and fit the NN for the current training date\n",
    "        model = NN(n_units=n_units, n_inputs=n_inputs, dropout=drop_out, l1_reg=l1_reg, activation=activation, L=L)\n",
    "        model.fit(x_train.values, y_train.values, epochs=n_epochs, batch_size=n_batch, verbose=0, callbacks=[es])   \n",
    "        beta = sensitivities(model, x_train.values, L, activation)   \n",
    "        \n",
    "        # Save the results\n",
    "        models['NN'].append(model)\n",
    "        betas['NN'].append(beta)\n",
    "        \n",
    "        # Fit the OLS regression model for the current date\n",
    "        x = sm.add_constant(x_train)\n",
    "        model = sm.OLS(y_train, x).fit()   \n",
    "        \n",
    "        # Save the results\n",
    "        betas['linear'].append(model.params)\n",
    "        models['linear'].append(model)\n",
    "        \n",
    "        # Save the corresponding inputs and outputs for each model \n",
    "        xs['train'].append(x_train)\n",
    "        xs['test'].append(x_test)\n",
    "        ys['train'].append(y_train)\n",
    "        ys['test'].append(y_test)\n",
    "\n",
    "        elapsed = timeit.default_timer() - start_time\n",
    "        print(\"Elapsed time: \" + str(elapsed) + \" (s)\")\n",
    "        i += 1\n",
    "        \n",
    "    return models, betas, xs, ys"
   ]
  },
  {
   "cell_type": "markdown",
   "metadata": {},
   "source": [
    "This function allows us to compute the feature sensitivities in the deep network. It assumes that the activation function is either $tanh$ or $relu$."
   ]
  },
  {
   "cell_type": "code",
   "execution_count": 10,
   "metadata": {},
   "outputs": [],
   "source": [
    "def sensitivities(lm, X, L, activation='tanh'):\n",
    "    W = lm.get_weights()\n",
    "    M = np.shape(X)[0]\n",
    "    p = np.shape(X)[1]\n",
    "    beta = np.zeros((M, p+1))\n",
    "    B_0 = W[1]\n",
    "    for i in range (0, L):\n",
    "        if activation == 'tanh':  \n",
    "            B_0 = (np.dot(np.transpose(W[2*(i+1)]), np.tanh(B_0)) + W[2*(i+1)+1])\n",
    "        elif activation == 'relu':\n",
    "            B_0 = (np.dot(np.transpose(W[2*(i+1)]), np.maximum(B_0, 0)) + W[2*(i+1)+1])\n",
    "    beta[:, 0] = B_0 # intercept \\beta_0 = F_{W,b}(0)\n",
    "    for i in range(M):\n",
    "        I1 = np.dot(np.transpose(W[0]), np.transpose(X[i,])) + W[1]\n",
    "        if activation == 'tanh':\n",
    "            Z = np.tanh(I1)  \n",
    "            D = np.diag(1 - Z**2)\n",
    "        elif activation == 'relu':\n",
    "            Z = np.maximum(I1, 0)\n",
    "            D = np.diag(np.sign(Z)) \n",
    "        \n",
    "        for j in range(p):\n",
    "            J = np.dot(D, W[0][j])       \n",
    "            for a in range (1, L):\n",
    "                I = np.dot(np.transpose(W[2*a]), Z) + W[2*a+1] \n",
    "                if activation == 'tanh':  \n",
    "                    Z = np.tanh(I)\n",
    "                    D = np.diag(1 - Z**2)\n",
    "                elif activation == 'relu':    \n",
    "                    Z = np.maximum(I,0)\n",
    "                    D = np.diag(np.sign(Z)) \n",
    "                J = np.dot(np.dot(D, np.transpose(W[2*a])), J)\n",
    "            beta[i, j+1]=np.dot(np.transpose(W[2*L]), J)\n",
    "    return beta"
   ]
  },
  {
   "cell_type": "markdown",
   "metadata": {},
   "source": [
    "Load the data"
   ]
  },
  {
   "cell_type": "code",
   "execution_count": 11,
   "metadata": {},
   "outputs": [],
   "source": [
    "X = pd.read_csv('../data/X_small.csv') # Factor exposures\n",
    "Y = pd.read_csv('../data/Y_small.csv') # Asset returns"
   ]
  },
  {
   "cell_type": "markdown",
   "metadata": {},
   "source": [
    "## Training of models \n",
    "A new cross-sectional neural network model is fitted in each period. To evaluate the performance of strategies, we need to train a model for each time step over a historical period. "
   ]
  },
  {
   "cell_type": "code",
   "execution_count": 12,
   "metadata": {},
   "outputs": [
    {
     "name": "stdout",
     "output_type": "stream",
     "text": [
      "0 2008-02-01\n",
      "Parameter tuning with X-validation...\n",
      "Epoch 00024: early stopping\n",
      "Epoch 00024: early stopping\n",
      "Epoch 00025: early stopping\n",
      "Epoch 00019: early stopping\n",
      "Epoch 00025: early stopping\n",
      "Epoch 00014: early stopping\n",
      "Epoch 00005: early stopping\n",
      "Epoch 00021: early stopping\n",
      "Epoch 00019: early stopping\n",
      "Epoch 00015: early stopping\n",
      "Epoch 00019: early stopping\n",
      "Epoch 00012: early stopping\n",
      "Epoch 00019: early stopping\n",
      "Epoch 00025: early stopping\n",
      "Epoch 00014: early stopping\n",
      "Epoch 00025: early stopping\n",
      "Epoch 00022: early stopping\n",
      "Epoch 00023: early stopping\n",
      "Epoch 00015: early stopping\n",
      "Epoch 00013: early stopping\n",
      "Epoch 00012: early stopping\n",
      "Epoch 00024: early stopping\n",
      "Epoch 00015: early stopping\n",
      "Epoch 00020: early stopping\n",
      "Epoch 00027: early stopping\n",
      "Epoch 00026: early stopping\n",
      "Epoch 00020: early stopping\n",
      "Epoch 00025: early stopping\n",
      "Epoch 00021: early stopping\n",
      "Epoch 00019: early stopping\n",
      "Epoch 00009: early stopping\n",
      "Epoch 00019: early stopping\n",
      "Epoch 00019: early stopping\n",
      "Epoch 00013: early stopping\n",
      "Epoch 00007: early stopping\n",
      "Epoch 00009: early stopping\n",
      "Epoch 00028: early stopping\n",
      "Epoch 00025: early stopping\n",
      "Epoch 00029: early stopping\n",
      "Epoch 00026: early stopping\n",
      "Epoch 00021: early stopping\n",
      "Epoch 00021: early stopping\n",
      "Epoch 00040: early stopping\n",
      "Epoch 00035: early stopping\n",
      "Epoch 00032: early stopping\n",
      "Epoch 00019: early stopping\n",
      "Epoch 00016: early stopping\n",
      "Epoch 00020: early stopping\n",
      "Epoch 00027: early stopping\n",
      "Epoch 00019: early stopping\n",
      "Epoch 00016: early stopping\n",
      "Epoch 00020: early stopping\n",
      "Epoch 00022: early stopping\n",
      "Epoch 00020: early stopping\n",
      "Epoch 00020: early stopping\n",
      "Best: -0.007279 using {'activation': 'relu', 'l1_reg': 0.0001, 'n_inputs': 6, 'n_units': 10}\n",
      "-0.008835 (0.000649) with: {'activation': 'relu', 'l1_reg': 0, 'n_inputs': 6, 'n_units': 10}\n",
      "-0.015021 (0.009258) with: {'activation': 'relu', 'l1_reg': 0, 'n_inputs': 6, 'n_units': 20}\n",
      "-0.011719 (0.003230) with: {'activation': 'relu', 'l1_reg': 0, 'n_inputs': 6, 'n_units': 50}\n",
      "-0.007279 (0.000944) with: {'activation': 'relu', 'l1_reg': 0.0001, 'n_inputs': 6, 'n_units': 10}\n",
      "-0.007558 (0.001022) with: {'activation': 'relu', 'l1_reg': 0.0001, 'n_inputs': 6, 'n_units': 20}\n",
      "-0.008031 (0.001275) with: {'activation': 'relu', 'l1_reg': 0.0001, 'n_inputs': 6, 'n_units': 50}\n",
      "-0.007280 (0.000895) with: {'activation': 'relu', 'l1_reg': 0.001, 'n_inputs': 6, 'n_units': 10}\n",
      "-0.007314 (0.000903) with: {'activation': 'relu', 'l1_reg': 0.001, 'n_inputs': 6, 'n_units': 20}\n",
      "-0.007781 (0.000996) with: {'activation': 'relu', 'l1_reg': 0.001, 'n_inputs': 6, 'n_units': 50}\n",
      "-0.007768 (0.001649) with: {'activation': 'tanh', 'l1_reg': 0, 'n_inputs': 6, 'n_units': 10}\n",
      "-0.007982 (0.001714) with: {'activation': 'tanh', 'l1_reg': 0, 'n_inputs': 6, 'n_units': 20}\n",
      "-0.007867 (0.001668) with: {'activation': 'tanh', 'l1_reg': 0, 'n_inputs': 6, 'n_units': 50}\n",
      "-0.007907 (0.001387) with: {'activation': 'tanh', 'l1_reg': 0.0001, 'n_inputs': 6, 'n_units': 10}\n",
      "-0.008020 (0.001282) with: {'activation': 'tanh', 'l1_reg': 0.0001, 'n_inputs': 6, 'n_units': 20}\n",
      "-0.008271 (0.001545) with: {'activation': 'tanh', 'l1_reg': 0.0001, 'n_inputs': 6, 'n_units': 50}\n",
      "-0.007319 (0.000930) with: {'activation': 'tanh', 'l1_reg': 0.001, 'n_inputs': 6, 'n_units': 10}\n",
      "-0.007339 (0.000867) with: {'activation': 'tanh', 'l1_reg': 0.001, 'n_inputs': 6, 'n_units': 20}\n",
      "-0.007539 (0.000907) with: {'activation': 'tanh', 'l1_reg': 0.001, 'n_inputs': 6, 'n_units': 50}\n",
      "{'activation': 'relu', 'l1_reg': 0.0001, 'n_inputs': 6, 'n_units': 10}\n",
      "Elapsed time:334.29772021700046 (s)\n",
      "1 2008-03-01\n",
      "Elapsed time:3.204688730998896 (s)\n",
      "2 2008-04-01\n",
      "Elapsed time:2.5196995599981165 (s)\n",
      "3 2008-05-01\n",
      "Elapsed time:2.6039689339959295 (s)\n",
      "4 2008-06-01\n",
      "Elapsed time:2.3879191349988105 (s)\n",
      "5 2008-07-01\n",
      "Elapsed time:2.541321626995341 (s)\n",
      "6 2008-08-01\n",
      "Elapsed time:2.311797274000128 (s)\n",
      "7 2008-09-01\n",
      "Elapsed time:2.4358518189983442 (s)\n",
      "8 2008-10-01\n",
      "Elapsed time:2.5007678880065214 (s)\n",
      "9 2008-11-01\n",
      "Elapsed time:2.4259906470106216 (s)\n",
      "10 2008-12-01\n",
      "Elapsed time:5.874883789991145 (s)\n",
      "11 2009-01-01\n",
      "Elapsed time:2.549434811997344 (s)\n",
      "12 2009-02-01\n",
      "Elapsed time:2.513443019997794 (s)\n",
      "13 2009-03-01\n",
      "Elapsed time:2.644825777009828 (s)\n",
      "14 2009-04-01\n",
      "Elapsed time:2.9503703369991854 (s)\n",
      "15 2009-05-01\n",
      "Elapsed time:3.103468443005113 (s)\n",
      "16 2009-06-01\n",
      "Elapsed time:3.5158980609994614 (s)\n",
      "17 2009-07-01\n",
      "Elapsed time:3.0404791829932947 (s)\n",
      "18 2009-08-01\n",
      "Elapsed time:3.0557063730084337 (s)\n",
      "19 2009-09-01\n",
      "Elapsed time:2.951567679992877 (s)\n",
      "20 2009-10-01\n",
      "Elapsed time:2.8056144599977415 (s)\n",
      "21 2009-11-01\n",
      "Elapsed time:2.605560141004389 (s)\n",
      "22 2009-12-01\n",
      "Elapsed time:3.0715104679984506 (s)\n",
      "23 2010-01-01\n",
      "Elapsed time:3.260850902996026 (s)\n",
      "24 2010-02-01\n",
      "Elapsed time:3.154943839996122 (s)\n",
      "25 2010-03-01\n",
      "Elapsed time:2.654853539992473 (s)\n",
      "26 2010-04-01\n",
      "Elapsed time:2.8079204520036 (s)\n",
      "27 2010-05-01\n",
      "Elapsed time:2.9655642559955595 (s)\n",
      "28 2010-06-01\n",
      "Elapsed time:12.870572165003978 (s)\n",
      "29 2010-07-01\n",
      "Elapsed time:11.544557499990333 (s)\n",
      "30 2010-08-01\n",
      "Elapsed time:3.2253230759961298 (s)\n",
      "31 2010-09-01\n",
      "Elapsed time:2.779214566995506 (s)\n",
      "32 2010-10-01\n",
      "Elapsed time:2.5233199689973844 (s)\n",
      "33 2010-11-01\n",
      "Elapsed time:2.796262122996268 (s)\n",
      "34 2010-12-01\n",
      "Elapsed time:2.599818836999475 (s)\n",
      "35 2011-01-01\n",
      "Elapsed time:2.5991340009932173 (s)\n",
      "36 2011-02-01\n",
      "Elapsed time:2.702329842999461 (s)\n",
      "37 2011-03-01\n",
      "Elapsed time:2.363431378005771 (s)\n",
      "38 2011-04-01\n",
      "Elapsed time:2.3024537730088923 (s)\n",
      "39 2011-05-01\n",
      "Elapsed time:2.3850999010028318 (s)\n",
      "40 2011-06-01\n",
      "Elapsed time:2.2878667039913125 (s)\n",
      "41 2011-07-01\n",
      "Elapsed time:2.567189043998951 (s)\n",
      "42 2011-08-01\n",
      "Elapsed time:2.3389144749962725 (s)\n",
      "43 2011-09-01\n",
      "Elapsed time:2.3225109319901094 (s)\n",
      "44 2011-10-01\n",
      "Elapsed time:2.3134547259978717 (s)\n",
      "45 2011-11-01\n"
     ]
    }
   ],
   "source": [
    "training_periods = 100\n",
    "L = 2 # Number of hidden and output layers\n",
    "dates = np.unique(X['date'])[0:training_periods] \n",
    "models, betas, xs, ys = training(X, Y, dates, L, False) # Set last argument to True to perform cross-validation for parameter tuning"
   ]
  },
  {
   "cell_type": "markdown",
   "metadata": {},
   "source": [
    "# Performance evaluation\n",
    "\n",
    "We note, for this small dataset, that the difference in the MSEs between OLS and neural networks is marginal, however, the L_inf norms are substantially different, indicating the superior ability of the neural network to capture outliers. "
   ]
  },
  {
   "cell_type": "markdown",
   "metadata": {},
   "source": [
    "Evaluate MSE of OLS out-of-sample\n"
   ]
  },
  {
   "cell_type": "code",
   "execution_count": 14,
   "metadata": {
    "scrolled": true
   },
   "outputs": [
    {
     "name": "stdout",
     "output_type": "stream",
     "text": [
      "MSE: 0.017511483871247034\n"
     ]
    }
   ],
   "source": [
    "MSE = 0\n",
    "y_hat_linear = []\n",
    "MSE_array_linear = np.array([0]*training_periods, dtype='float64')\n",
    "for i in range(training_periods):\n",
    "    x = sm.add_constant(xs['test'][i].values)\n",
    "    y_hat_linear.append(models['linear'][i].predict(x))\n",
    "    MSE_test_linear = mean_squared_error(y_hat_linear[-1], ys['test'][i].values)\n",
    "    MSE_array_linear[i] = MSE_test_linear\n",
    "    MSE += MSE_test_linear\n",
    "print(\"MSE: \" + str(MSE / training_periods))    "
   ]
  },
  {
   "cell_type": "markdown",
   "metadata": {},
   "source": [
    "Evaluate MSE of OLS in-sample\n"
   ]
  },
  {
   "cell_type": "code",
   "execution_count": 11,
   "metadata": {},
   "outputs": [
    {
     "name": "stdout",
     "output_type": "stream",
     "text": [
      "MSE: 0.004573922402548681\n"
     ]
    }
   ],
   "source": [
    "MSE = 0\n",
    "MSE_array_linear_in = np.zeros(training_periods).astype('float64')\n",
    "y_hat_linear_is = []\n",
    "for i in range(training_periods):\n",
    "    x = sm.add_constant(xs['train'][i].values)\n",
    "    y_hat_linear_is.append(models['linear'][i].predict(x))\n",
    "    MSE_test_linear = mean_squared_error(y_hat_linear_is[-1], ys['train'][i].values)\n",
    "    MSE_array_linear_in[i] = MSE_test_linear\n",
    "    MSE += MSE_test_linear\n",
    "print(\"MSE: \" + str(MSE / training_periods))    "
   ]
  },
  {
   "cell_type": "markdown",
   "metadata": {},
   "source": [
    "Evaluate $L_{\\infty}$ norm of OLS out-of-sample\n"
   ]
  },
  {
   "cell_type": "code",
   "execution_count": 12,
   "metadata": {},
   "outputs": [
    {
     "name": "stdout",
     "output_type": "stream",
     "text": [
      "inf-norm: 0.5148467207968435\n"
     ]
    }
   ],
   "source": [
    "inf_norm = 0\n",
    "y_hat_linear = []\n",
    "inf_norm_linear_out = np.array([0]*training_periods, dtype='float64')\n",
    "for i in range(training_periods):\n",
    "    x = sm.add_constant(xs['test'][i].values)\n",
    "    y_hat_linear.append(models['linear'][i].predict(x))\n",
    "    inf_norm_linear = np.max(np.abs(y_hat_linear[-1] - ys['test'][i].values))\n",
    "    inf_norm_linear_out[i] = inf_norm_linear\n",
    "    inf_norm += inf_norm_linear\n",
    "print(\"inf-norm: \" + str(inf_norm / training_periods))   "
   ]
  },
  {
   "cell_type": "markdown",
   "metadata": {},
   "source": [
    "Evaluate $L_{\\infty}$ norm of OLS in-sample"
   ]
  },
  {
   "cell_type": "code",
   "execution_count": 13,
   "metadata": {},
   "outputs": [
    {
     "name": "stdout",
     "output_type": "stream",
     "text": [
      "inf-norm: 0.4225199869563092\n"
     ]
    }
   ],
   "source": [
    "inf_norm = 0\n",
    "y_hat_linear = []\n",
    "inf_norm_linear_in = np.array([0]*training_periods, dtype='float64')\n",
    "for i in range(training_periods):\n",
    "    x = sm.add_constant(xs['train'][i].values)\n",
    "    y_hat_linear.append(models['linear'][i].predict(x))\n",
    "    inf_norm_linear = np.max(np.abs(y_hat_linear[-1] - ys['train'][i].values))\n",
    "    inf_norm_linear_in[i] = inf_norm_linear\n",
    "    inf_norm += inf_norm_linear\n",
    "print(\"inf-norm: \" + str(inf_norm/training_periods)) "
   ]
  },
  {
   "cell_type": "markdown",
   "metadata": {},
   "source": [
    "Evaluate MSE of NN out-of-sample"
   ]
  },
  {
   "cell_type": "code",
   "execution_count": 14,
   "metadata": {},
   "outputs": [
    {
     "name": "stdout",
     "output_type": "stream",
     "text": [
      "MSE: 0.016814848608209615\n"
     ]
    }
   ],
   "source": [
    "MSE = 0\n",
    "MSE_array_NN = np.array([0]*training_periods, dtype='float64')\n",
    "y_hat_NN = []\n",
    "for i in range(training_periods):\n",
    "    y_hat_NN.append(models['NN'][i].predict(xs['test'][i].values))\n",
    "    MSE_test_NN = mean_squared_error(y_hat_NN[-1], ys['test'][i].values)\n",
    "    MSE_array_NN[i] = MSE_test_NN\n",
    "    MSE += MSE_test_NN\n",
    "print(\"MSE: \" + str(MSE / training_periods))  "
   ]
  },
  {
   "cell_type": "markdown",
   "metadata": {},
   "source": [
    "Evaluate MSE of NN in-sample"
   ]
  },
  {
   "cell_type": "code",
   "execution_count": 15,
   "metadata": {},
   "outputs": [
    {
     "name": "stdout",
     "output_type": "stream",
     "text": [
      "MSE: 0.005145836431011453\n"
     ]
    }
   ],
   "source": [
    "MSE = 0\n",
    "MSE_array_NN_in = np.array([0]*training_periods, dtype='float64')\n",
    "y_hat_NN_is = []\n",
    "for i in range(training_periods):\n",
    "    y_hat_NN_is.append(models['NN'][i].predict(xs['train'][i].values))\n",
    "    MSE_test_NN = mean_squared_error(y_hat_NN_is[-1], ys['train'][i].values)\n",
    "    MSE_array_NN_in[i] = MSE_test_NN\n",
    "    MSE += MSE_test_NN\n",
    "print(\"MSE: \" + str(MSE / training_periods)) "
   ]
  },
  {
   "cell_type": "markdown",
   "metadata": {},
   "source": [
    "Evaluate $L_{\\infty}$ norm of NN out-of-sample"
   ]
  },
  {
   "cell_type": "code",
   "execution_count": 16,
   "metadata": {},
   "outputs": [
    {
     "name": "stdout",
     "output_type": "stream",
     "text": [
      "inf-norm: 0.38414703878522516\n"
     ]
    }
   ],
   "source": [
    "inf_norm = 0\n",
    "inf_norm_test_NN = np.array([0]*training_periods, dtype='float64')\n",
    "y_hat_NN = []\n",
    "for i in range(training_periods):\n",
    "    y_hat_NN.append(models['NN'][i].predict(xs['test'][i].values))\n",
    "    inf_norm_NN = np.max(np.abs(y_hat_NN[-1] - ys['test'][i].values))\n",
    "    inf_norm_test_NN[i] = inf_norm_NN\n",
    "    inf_norm += inf_norm_NN\n",
    "print(\"inf-norm: \" + str(inf_norm/training_periods))  "
   ]
  },
  {
   "cell_type": "markdown",
   "metadata": {},
   "source": [
    "Evaluate $L_{\\infty}$ of NN in-sample"
   ]
  },
  {
   "cell_type": "code",
   "execution_count": 17,
   "metadata": {},
   "outputs": [
    {
     "name": "stdout",
     "output_type": "stream",
     "text": [
      "inf-norm: 0.33293916186696443\n"
     ]
    }
   ],
   "source": [
    "inf_norm = 0\n",
    "inf_norm_train_NN = np.array([0]*training_periods, dtype='float64')\n",
    "y_hat_NN_is = []\n",
    "for i in range(training_periods):\n",
    "    y_hat_NN_is.append(models['NN'][i].predict(xs['train'][i].values))\n",
    "    inf_norm_NN = np.max(np.abs(y_hat_NN_is[-1]- ys['train'][i].values))\n",
    "    inf_norm_train_NN[i] = inf_norm_NN\n",
    "    inf_norm += inf_norm_NN\n",
    "print(\"inf-norm: \" + str(inf_norm/training_periods))  "
   ]
  },
  {
   "cell_type": "markdown",
   "metadata": {},
   "source": [
    "### $L_2$ norms"
   ]
  },
  {
   "cell_type": "code",
   "execution_count": 18,
   "metadata": {},
   "outputs": [
    {
     "data": {
      "image/png": "[encoded data removed]",
      "text/plain": [
       "<Figure size 432x288 with 1 Axes>"
      ]
     },
     "metadata": {
      "needs_background": "light"
     },
     "output_type": "display_data"
    }
   ],
   "source": [
    "plt.plot(MSE_array_NN_in, color='red', label='NN')\n",
    "plt.plot(MSE_array_linear_in, color='blue', label='OLS')\n",
    "plt.ylabel('MSE (in-sample)')\n",
    "plt.xlabel('t')\n",
    "plt.legend();"
   ]
  },
  {
   "cell_type": "code",
   "execution_count": 19,
   "metadata": {},
   "outputs": [
    {
     "data": {
      "image/png": "[encoded data removed]",
      "text/plain": [
       "<Figure size 432x288 with 1 Axes>"
      ]
     },
     "metadata": {
      "needs_background": "light"
     },
     "output_type": "display_data"
    }
   ],
   "source": [
    "plt.plot(MSE_array_NN, color='red', label='NN')\n",
    "plt.plot(MSE_array_linear, color='blue', label='OLS')\n",
    "plt.ylabel('MSE (out-of-sample)')\n",
    "plt.xlabel('t')\n",
    "plt.legend();"
   ]
  },
  {
   "cell_type": "markdown",
   "metadata": {},
   "source": [
    "### $L_{\\infty}$ norms "
   ]
  },
  {
   "cell_type": "code",
   "execution_count": 20,
   "metadata": {},
   "outputs": [
    {
     "data": {
      "image/png": "[encoded data removed]",
      "text/plain": [
       "<Figure size 432x288 with 1 Axes>"
      ]
     },
     "metadata": {
      "needs_background": "light"
     },
     "output_type": "display_data"
    }
   ],
   "source": [
    "plt.plot(inf_norm_train_NN, color='red', label='NN')\n",
    "plt.plot(inf_norm_linear_in, color='blue', label='OLS')\n",
    "plt.ylabel('$L_{\\infty}$-norm (in-sample)')\n",
    "plt.xlabel('t')\n",
    "plt.legend();"
   ]
  },
  {
   "cell_type": "code",
   "execution_count": 21,
   "metadata": {},
   "outputs": [
    {
     "data": {
      "image/png": "[encoded data removed]",
      "text/plain": [
       "<Figure size 432x288 with 1 Axes>"
      ]
     },
     "metadata": {
      "needs_background": "light"
     },
     "output_type": "display_data"
    }
   ],
   "source": [
    "plt.plot(inf_norm_test_NN, color='red', label='NN')\n",
    "plt.plot(inf_norm_linear_out, color='blue', label='OLS')\n",
    "plt.ylabel('$L_\\infty$-norm (out-of-sample)')\n",
    "plt.xlabel('t')\n",
    "plt.legend();"
   ]
  },
  {
   "cell_type": "markdown",
   "metadata": {},
   "source": [
    "# Sensitivities\n",
    "Plot the sensitivies of the neural network to the input factors and compare with OLS regression."
   ]
  },
  {
   "cell_type": "code",
   "execution_count": 22,
   "metadata": {},
   "outputs": [
    {
     "data": {
      "text/plain": [
       "array([ 2.9119727e-09,  1.6448817e-08, -3.6024763e-09,  1.4996275e-09,\n",
       "        9.7157580e-09, -2.9344158e-09], dtype=float32)"
      ]
     },
     "execution_count": 22,
     "metadata": {},
     "output_type": "execute_result"
    }
   ],
   "source": [
    "betas['NN'][i][0][1:]"
   ]
  },
  {
   "cell_type": "code",
   "execution_count": 23,
   "metadata": {},
   "outputs": [
    {
     "name": "stdout",
     "output_type": "stream",
     "text": [
      "6\n"
     ]
    }
   ],
   "source": [
    "n_var = np.shape(betas['NN'][1])[1] - 1\n",
    "\n",
    "mu = np.array([0]*training_periods*n_var, dtype='float32').reshape(training_periods, n_var)\n",
    "sd = np.array([0]*training_periods*n_var, dtype='float32').reshape(training_periods, n_var)\n",
    "mu_ols = np.array([0]*training_periods*n_var, dtype='float32').reshape(training_periods, n_var)\n",
    "\n",
    "for i in range(training_periods):\n",
    "    mu[i, :] = np.median(betas['NN'][i], axis=0)[1:]\n",
    "    sd[i, :] = np.std(betas['NN'][i], axis=0) [1:]\n",
    "    mu_ols[i, :] = betas['linear'][i][1:]"
   ]
  },
  {
   "cell_type": "code",
   "execution_count": 24,
   "metadata": {},
   "outputs": [],
   "source": [
    "names = ['EV', 'P/B', 'EV/T12M EBITDA', 'P/S' , 'P/E','Log CAP']"
   ]
  },
  {
   "cell_type": "code",
   "execution_count": 25,
   "metadata": {},
   "outputs": [
    {
     "data": {
      "image/png": "[encoded data removed]",
      "text/plain": [
       "<Figure size 1440x720 with 2 Axes>"
      ]
     },
     "metadata": {
      "needs_background": "light"
     },
     "output_type": "display_data"
    }
   ],
   "source": [
    "fig, axes = plt.subplots(2, 1, figsize=(20, 10))\n",
    "fig.subplots_adjust(hspace=.5)\n",
    "fig.subplots_adjust(wspace=.7)\n",
    "%sc = 10000\n",
    "idx=np.argsort(np.median(mu[:, 0:n_var], axis=0))\n",
    "axes[0].boxplot(mu[:, idx])       # make your boxplot\n",
    "axes[0].set_xticklabels(np.array(names)[idx], rotation=45)  \n",
    "axes[0].set_ylim([-0.1, 0.1])\n",
    "axes[0].set_ylabel('Sensitivity (NN)')\n",
    "axes[0].set_xlabel('Factor')\n",
    "idx = np.argsort(np.median(mu_ols[:, 0:n_var], axis=0))\n",
    "axes[1].boxplot(mu_ols[:, idx]) \n",
    "axes[1].set_ylim([-0.1, 0.1])\n",
    "axes[1].set_xticklabels(np.array(names)[idx], rotation=45) \n",
    "\n",
    "axes[1].set_ylabel('Sensitivity (OLS)')\n",
    "axes[1].set_xlabel('Factor');"
   ]
  },
  {
   "cell_type": "markdown",
   "metadata": {},
   "source": [
    "The above sensitivities are sorted in ascending order from left to right. We observe that the OLS regression is much more sensitive to the factors than the NN."
   ]
  }
 ],
 "metadata": {
  "kernelspec": {
   "display_name": "Python 3",
   "language": "python",
   "name": "python3"
  },
  "language_info": {
   "codemirror_mode": {
    "name": "ipython",
    "version": 3
   },
   "file_extension": ".py",
   "mimetype": "text/x-python",
   "name": "python",
   "nbconvert_exporter": "python",
   "pygments_lexer": "ipython3",
   "version": "3.6.9"
  }
 },
 "nbformat": 4,
 "nbformat_minor": 2
}
