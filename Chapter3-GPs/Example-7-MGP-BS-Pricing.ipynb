{
 "cells": [
  {
   "cell_type": "code",
   "execution_count": 22,
   "metadata": {},
   "outputs": [],
   "source": [
    "# Example-7-MGP-BS-Pricing\n",
    "# Author: Matthew Dixon\n",
    "# Version: 1.0 (28.4.2020)\n",
    "# License: MIT\n",
    "# Email: matthew.dixon@iit.edu\n",
    "# Notes: tested on Mac OS X running Python 3.6.9 with the following packages:\n",
    "# scikit-learn=0.22.1, numpy=1.18.1, matplotlib=3.1.3, gpytorch=0.1.0, torch=1.5.0, scipy=1.4.1\n",
    "# Citation: Please cite the following reference if this notebook is used for research purposes:\n",
    "# Dixon M.F. Halperin I. and P. Bilokon, Machine Learning in Finance: From Theory to Practice, Springer Graduate textbook Series, 2020. "
   ]
  },
  {
   "cell_type": "markdown",
   "metadata": {},
   "source": [
    "# Overview\n",
    "The purpose of this notebook is to demonstrate the fitting of a multi-response Gaussian Process Regression model (GP) to the prices of two options. In this notebook, the prices of a call and put are generated from the Black-Scholes model.  The notebook begins by building a multi-GP model, and then evaluates the error.\n",
    "\n",
    "Finally the notebook studies the posterior covariance term which is uniquely available in the multi-GP model. See Section 6 for further details."
   ]
  },
  {
   "cell_type": "code",
   "execution_count": 17,
   "metadata": {
    "scrolled": true
   },
   "outputs": [],
   "source": [
    "import torch\n",
    "import gpytorch\n",
    "import numpy as np\n",
    "from BlackScholes import bsformula\n",
    "from matplotlib import pyplot as plt\n",
    "from scipy import stats  \n",
    "\n",
    "%matplotlib inline"
   ]
  },
  {
   "cell_type": "markdown",
   "metadata": {},
   "source": [
    "## Black-Scholes Model"
   ]
  },
  {
   "cell_type": "markdown",
   "metadata": {},
   "source": [
    "First, set the model parameters"
   ]
  },
  {
   "cell_type": "code",
   "execution_count": 3,
   "metadata": {},
   "outputs": [],
   "source": [
    "r = 0.0     # risk-free rate\n",
    "S= 100      # Underlying spot\n",
    "KC = 110    # Call strike\n",
    "KP = 90     # Put strike\n",
    "sigma = 0.3 # implied volatility\n",
    "T = 2.0     # Time to maturity"
   ]
  },
  {
   "cell_type": "markdown",
   "metadata": {},
   "source": [
    "Define the call and put prices using the BS model\n"
   ]
  },
  {
   "cell_type": "code",
   "execution_count": 4,
   "metadata": {},
   "outputs": [],
   "source": [
    "call = lambda x: bsformula(1, lb+(ub-lb)*x, KC, r, T, sigma, 0)[0]\n",
    "put = lambda x: bsformula(-1, lb+(ub-lb)*x, KP, r, T, sigma, 0)[0]"
   ]
  },
  {
   "cell_type": "markdown",
   "metadata": {},
   "source": [
    "Create an input vector representing the underlying and output vectors `train_y1` and `train_y2` representing the call and put prices respectively from the Black-Scholes model. "
   ]
  },
  {
   "cell_type": "code",
   "execution_count": 6,
   "metadata": {},
   "outputs": [],
   "source": [
    "lb = 0.001             # lower bound on domain\n",
    "ub = 300               # upper bound on domain\n",
    "training_number = 50   # Number of training samples\n",
    "testing_number =  100  # Number of testing samples\n",
    "\n",
    "train_x = torch.linspace(0, 1.0, training_number)\n",
    "train_y1 = torch.FloatTensor(call(np.array(train_x)))\n",
    "train_y2 = torch.FloatTensor(put(np.array(train_x)))"
   ]
  },
  {
   "cell_type": "markdown",
   "metadata": {},
   "source": [
    "Create `train_y` which stacks the two into a tensor for training a model which outputs both quantities"
   ]
  },
  {
   "cell_type": "code",
   "execution_count": 7,
   "metadata": {},
   "outputs": [],
   "source": [
    "train_y = torch.stack([train_y1, train_y2], -1)"
   ]
  },
  {
   "cell_type": "markdown",
   "metadata": {},
   "source": [
    "Observe the first few elements of `train_y`:"
   ]
  },
  {
   "cell_type": "code",
   "execution_count": 8,
   "metadata": {},
   "outputs": [
    {
     "name": "stdout",
     "output_type": "stream",
     "text": [
      "         Call        Put\n",
      "tensor([[0.0000e+00, 8.9999e+01],\n",
      "        [7.5293e-12, 8.3877e+01],\n",
      "        [3.1548e-07, 7.7754e+01],\n",
      "        [4.9525e-05, 7.1632e+01],\n",
      "        [1.0728e-03, 6.5515e+01]])\n"
     ]
    }
   ],
   "source": [
    "print('         Call        Put')\n",
    "print(train_y[:5])"
   ]
  },
  {
   "cell_type": "markdown",
   "metadata": {},
   "source": [
    "We generate some testing data in the same way"
   ]
  },
  {
   "cell_type": "code",
   "execution_count": 9,
   "metadata": {},
   "outputs": [],
   "source": [
    "test_x = torch.linspace(0, 1.0, testing_number)\n",
    "test_y1 = torch.FloatTensor(call(np.array(test_x)))\n",
    "test_y2 = torch.FloatTensor(put(np.array(test_x)))\n",
    "test_y = torch.stack([test_y1, test_y2], -1)"
   ]
  },
  {
   "cell_type": "markdown",
   "metadata": {},
   "source": [
    "## Multi-Reponse GP Model"
   ]
  },
  {
   "cell_type": "markdown",
   "metadata": {},
   "source": [
    "Here we create the class which defines the architecture of our GP model"
   ]
  },
  {
   "cell_type": "code",
   "execution_count": 10,
   "metadata": {},
   "outputs": [],
   "source": [
    "class MultitaskGPModel(gpytorch.models.ExactGP):\n",
    "    def __init__(self, train_x, train_y, likelihood):\n",
    "        super(MultitaskGPModel, self).__init__(train_x, train_y, likelihood)\n",
    "        \n",
    "        self.mean_module = gpytorch.means.MultitaskMean(\n",
    "            gpytorch.means.ConstantMean(), num_tasks=2\n",
    "        )\n",
    "        \n",
    "        self.covar_module = gpytorch.kernels.MultitaskKernel(gpytorch.kernels.ScaleKernel(\n",
    "            gpytorch.kernels.MaternKernel(nu=2.5)), num_tasks=2, rank=1\n",
    "        )\n",
    "    \n",
    "    def forward(self, x):\n",
    "        mean_x = self.mean_module(x)\n",
    "        covar_x = self.covar_module(x)\n",
    "        return gpytorch.distributions.MultitaskMultivariateNormal(mean_x, covar_x)"
   ]
  },
  {
   "cell_type": "markdown",
   "metadata": {},
   "source": [
    "## Fit the multi-GP model"
   ]
  },
  {
   "cell_type": "code",
   "execution_count": 11,
   "metadata": {},
   "outputs": [
    {
     "name": "stdout",
     "output_type": "stream",
     "text": [
      "Iter 1/300 - Loss: 16048.178 lengthscale: 0.693 noise: 0.693\n",
      "Iter 2/300 - Loss: 12671.662 lengthscale: 0.644 noise: 0.744\n",
      "Iter 3/300 - Loss: 10046.484 lengthscale: 0.599 noise: 0.797\n",
      "Iter 4/300 - Loss: 8029.679 lengthscale: 0.556 noise: 0.849\n",
      "Iter 5/300 - Loss: 6491.721 lengthscale: 0.516 noise: 0.901\n",
      "Iter 6/300 - Loss: 5324.402 lengthscale: 0.480 noise: 0.952\n",
      "Iter 7/300 - Loss: 4439.858 lengthscale: 0.447 noise: 1.000\n",
      "Iter 8/300 - Loss: 3767.869 lengthscale: 0.418 noise: 1.046\n",
      "Iter 9/300 - Loss: 3253.600 lengthscale: 0.391 noise: 1.090\n",
      "Iter 10/300 - Loss: 2855.487 lengthscale: 0.368 noise: 1.132\n",
      "Iter 11/300 - Loss: 2542.911 lengthscale: 0.347 noise: 1.171\n",
      "Iter 12/300 - Loss: 2293.749 lengthscale: 0.328 noise: 1.208\n",
      "Iter 13/300 - Loss: 2092.149 lengthscale: 0.312 noise: 1.243\n",
      "Iter 14/300 - Loss: 1926.710 lengthscale: 0.298 noise: 1.275\n",
      "Iter 15/300 - Loss: 1789.148 lengthscale: 0.285 noise: 1.305\n",
      "Iter 16/300 - Loss: 1673.352 lengthscale: 0.274 noise: 1.334\n",
      "Iter 17/300 - Loss: 1574.755 lengthscale: 0.265 noise: 1.361\n",
      "Iter 18/300 - Loss: 1489.900 lengthscale: 0.256 noise: 1.386\n",
      "Iter 19/300 - Loss: 1416.138 lengthscale: 0.249 noise: 1.409\n",
      "Iter 20/300 - Loss: 1351.422 lengthscale: 0.242 noise: 1.431\n",
      "Iter 21/300 - Loss: 1294.153 lengthscale: 0.237 noise: 1.451\n",
      "Iter 22/300 - Loss: 1243.075 lengthscale: 0.232 noise: 1.470\n",
      "Iter 23/300 - Loss: 1197.191 lengthscale: 0.227 noise: 1.488\n",
      "Iter 24/300 - Loss: 1155.702 lengthscale: 0.224 noise: 1.505\n",
      "Iter 25/300 - Loss: 1117.968 lengthscale: 0.220 noise: 1.520\n",
      "Iter 26/300 - Loss: 1083.466 lengthscale: 0.218 noise: 1.535\n",
      "Iter 27/300 - Loss: 1051.771 lengthscale: 0.216 noise: 1.548\n",
      "Iter 28/300 - Loss: 1022.530 lengthscale: 0.214 noise: 1.561\n",
      "Iter 29/300 - Loss: 995.453 lengthscale: 0.212 noise: 1.573\n",
      "Iter 30/300 - Loss: 970.295 lengthscale: 0.211 noise: 1.584\n",
      "Iter 31/300 - Loss: 946.850 lengthscale: 0.210 noise: 1.594\n",
      "Iter 32/300 - Loss: 924.945 lengthscale: 0.209 noise: 1.604\n",
      "Iter 33/300 - Loss: 904.429 lengthscale: 0.209 noise: 1.613\n",
      "Iter 34/300 - Loss: 885.174 lengthscale: 0.209 noise: 1.621\n",
      "Iter 35/300 - Loss: 867.068 lengthscale: 0.209 noise: 1.629\n",
      "Iter 36/300 - Loss: 850.012 lengthscale: 0.209 noise: 1.637\n",
      "Iter 37/300 - Loss: 833.920 lengthscale: 0.209 noise: 1.644\n",
      "Iter 38/300 - Loss: 818.717 lengthscale: 0.209 noise: 1.650\n",
      "Iter 39/300 - Loss: 804.332 lengthscale: 0.210 noise: 1.656\n",
      "Iter 40/300 - Loss: 790.705 lengthscale: 0.210 noise: 1.662\n",
      "Iter 41/300 - Loss: 777.781 lengthscale: 0.211 noise: 1.668\n",
      "Iter 42/300 - Loss: 765.509 lengthscale: 0.212 noise: 1.673\n",
      "Iter 43/300 - Loss: 753.843 lengthscale: 0.213 noise: 1.678\n",
      "Iter 44/300 - Loss: 742.741 lengthscale: 0.213 noise: 1.683\n",
      "Iter 45/300 - Loss: 732.165 lengthscale: 0.214 noise: 1.687\n",
      "Iter 46/300 - Loss: 722.080 lengthscale: 0.215 noise: 1.691\n",
      "Iter 47/300 - Loss: 712.452 lengthscale: 0.216 noise: 1.695\n",
      "Iter 48/300 - Loss: 703.253 lengthscale: 0.217 noise: 1.699\n",
      "Iter 49/300 - Loss: 694.452 lengthscale: 0.218 noise: 1.702\n",
      "Iter 50/300 - Loss: 686.026 lengthscale: 0.219 noise: 1.706\n",
      "Iter 51/300 - Loss: 677.950 lengthscale: 0.220 noise: 1.709\n",
      "Iter 52/300 - Loss: 670.201 lengthscale: 0.221 noise: 1.712\n",
      "Iter 53/300 - Loss: 662.758 lengthscale: 0.223 noise: 1.715\n",
      "Iter 54/300 - Loss: 655.603 lengthscale: 0.224 noise: 1.718\n",
      "Iter 55/300 - Loss: 648.717 lengthscale: 0.225 noise: 1.721\n",
      "Iter 56/300 - Loss: 642.083 lengthscale: 0.226 noise: 1.723\n",
      "Iter 57/300 - Loss: 635.686 lengthscale: 0.227 noise: 1.726\n",
      "Iter 58/300 - Loss: 629.512 lengthscale: 0.227 noise: 1.728\n",
      "Iter 59/300 - Loss: 623.547 lengthscale: 0.228 noise: 1.731\n",
      "Iter 60/300 - Loss: 617.777 lengthscale: 0.229 noise: 1.733\n",
      "Iter 61/300 - Loss: 612.192 lengthscale: 0.230 noise: 1.735\n",
      "Iter 62/300 - Loss: 606.781 lengthscale: 0.231 noise: 1.737\n",
      "Iter 63/300 - Loss: 601.534 lengthscale: 0.232 noise: 1.739\n",
      "Iter 64/300 - Loss: 596.440 lengthscale: 0.233 noise: 1.741\n",
      "Iter 65/300 - Loss: 591.492 lengthscale: 0.233 noise: 1.743\n",
      "Iter 66/300 - Loss: 586.680 lengthscale: 0.234 noise: 1.745\n",
      "Iter 67/300 - Loss: 581.998 lengthscale: 0.235 noise: 1.747\n",
      "Iter 68/300 - Loss: 577.439 lengthscale: 0.236 noise: 1.748\n",
      "Iter 69/300 - Loss: 572.995 lengthscale: 0.236 noise: 1.750\n",
      "Iter 70/300 - Loss: 568.662 lengthscale: 0.237 noise: 1.752\n",
      "Iter 71/300 - Loss: 564.432 lengthscale: 0.237 noise: 1.753\n",
      "Iter 72/300 - Loss: 560.302 lengthscale: 0.238 noise: 1.755\n",
      "Iter 73/300 - Loss: 556.265 lengthscale: 0.238 noise: 1.757\n",
      "Iter 74/300 - Loss: 552.318 lengthscale: 0.239 noise: 1.758\n",
      "Iter 75/300 - Loss: 548.456 lengthscale: 0.239 noise: 1.760\n",
      "Iter 76/300 - Loss: 544.675 lengthscale: 0.240 noise: 1.761\n",
      "Iter 77/300 - Loss: 540.972 lengthscale: 0.240 noise: 1.763\n",
      "Iter 78/300 - Loss: 537.343 lengthscale: 0.241 noise: 1.764\n",
      "Iter 79/300 - Loss: 533.785 lengthscale: 0.241 noise: 1.765\n",
      "Iter 80/300 - Loss: 530.296 lengthscale: 0.241 noise: 1.767\n",
      "Iter 81/300 - Loss: 526.871 lengthscale: 0.241 noise: 1.768\n",
      "Iter 82/300 - Loss: 523.510 lengthscale: 0.242 noise: 1.769\n",
      "Iter 83/300 - Loss: 520.208 lengthscale: 0.242 noise: 1.771\n",
      "Iter 84/300 - Loss: 516.965 lengthscale: 0.242 noise: 1.772\n",
      "Iter 85/300 - Loss: 513.778 lengthscale: 0.242 noise: 1.773\n",
      "Iter 86/300 - Loss: 510.645 lengthscale: 0.243 noise: 1.774\n",
      "Iter 87/300 - Loss: 507.564 lengthscale: 0.243 noise: 1.775\n",
      "Iter 88/300 - Loss: 504.534 lengthscale: 0.243 noise: 1.777\n",
      "Iter 89/300 - Loss: 501.552 lengthscale: 0.243 noise: 1.778\n",
      "Iter 90/300 - Loss: 498.618 lengthscale: 0.243 noise: 1.779\n",
      "Iter 91/300 - Loss: 495.730 lengthscale: 0.243 noise: 1.780\n",
      "Iter 92/300 - Loss: 492.886 lengthscale: 0.243 noise: 1.781\n",
      "Iter 93/300 - Loss: 490.085 lengthscale: 0.243 noise: 1.782\n",
      "Iter 94/300 - Loss: 487.327 lengthscale: 0.243 noise: 1.783\n",
      "Iter 95/300 - Loss: 484.609 lengthscale: 0.243 noise: 1.784\n",
      "Iter 96/300 - Loss: 481.931 lengthscale: 0.243 noise: 1.785\n",
      "Iter 97/300 - Loss: 479.292 lengthscale: 0.243 noise: 1.786\n",
      "Iter 98/300 - Loss: 476.691 lengthscale: 0.243 noise: 1.787\n",
      "Iter 99/300 - Loss: 474.126 lengthscale: 0.243 noise: 1.788\n",
      "Iter 100/300 - Loss: 471.598 lengthscale: 0.243 noise: 1.789\n",
      "Iter 101/300 - Loss: 469.104 lengthscale: 0.243 noise: 1.790\n",
      "Iter 102/300 - Loss: 466.645 lengthscale: 0.243 noise: 1.791\n",
      "Iter 103/300 - Loss: 464.219 lengthscale: 0.243 noise: 1.792\n",
      "Iter 104/300 - Loss: 461.826 lengthscale: 0.243 noise: 1.793\n",
      "Iter 105/300 - Loss: 459.464 lengthscale: 0.243 noise: 1.794\n",
      "Iter 106/300 - Loss: 457.134 lengthscale: 0.243 noise: 1.794\n",
      "Iter 107/300 - Loss: 454.835 lengthscale: 0.243 noise: 1.795\n",
      "Iter 108/300 - Loss: 452.566 lengthscale: 0.243 noise: 1.796\n",
      "Iter 109/300 - Loss: 450.326 lengthscale: 0.243 noise: 1.797\n",
      "Iter 110/300 - Loss: 448.114 lengthscale: 0.242 noise: 1.798\n",
      "Iter 111/300 - Loss: 445.931 lengthscale: 0.242 noise: 1.798\n",
      "Iter 112/300 - Loss: 443.776 lengthscale: 0.242 noise: 1.799\n",
      "Iter 113/300 - Loss: 441.647 lengthscale: 0.242 noise: 1.800\n",
      "Iter 114/300 - Loss: 439.545 lengthscale: 0.242 noise: 1.801\n",
      "Iter 115/300 - Loss: 437.469 lengthscale: 0.242 noise: 1.801\n",
      "Iter 116/300 - Loss: 435.419 lengthscale: 0.242 noise: 1.802\n",
      "Iter 117/300 - Loss: 433.393 lengthscale: 0.242 noise: 1.803\n",
      "Iter 118/300 - Loss: 431.392 lengthscale: 0.242 noise: 1.803\n",
      "Iter 119/300 - Loss: 429.416 lengthscale: 0.241 noise: 1.804\n",
      "Iter 120/300 - Loss: 427.462 lengthscale: 0.241 noise: 1.805\n",
      "Iter 121/300 - Loss: 425.533 lengthscale: 0.241 noise: 1.805\n",
      "Iter 122/300 - Loss: 423.626 lengthscale: 0.241 noise: 1.806\n",
      "Iter 123/300 - Loss: 421.741 lengthscale: 0.241 noise: 1.806\n",
      "Iter 124/300 - Loss: 419.878 lengthscale: 0.241 noise: 1.807\n",
      "Iter 125/300 - Loss: 418.037 lengthscale: 0.241 noise: 1.808\n",
      "Iter 126/300 - Loss: 416.218 lengthscale: 0.241 noise: 1.808\n",
      "Iter 127/300 - Loss: 414.419 lengthscale: 0.240 noise: 1.809\n",
      "Iter 128/300 - Loss: 412.640 lengthscale: 0.240 noise: 1.809\n",
      "Iter 129/300 - Loss: 410.882 lengthscale: 0.240 noise: 1.810\n",
      "Iter 130/300 - Loss: 409.144 lengthscale: 0.240 noise: 1.810\n",
      "Iter 131/300 - Loss: 407.425 lengthscale: 0.240 noise: 1.811\n",
      "Iter 132/300 - Loss: 405.725 lengthscale: 0.240 noise: 1.811\n",
      "Iter 133/300 - Loss: 404.044 lengthscale: 0.240 noise: 1.812\n",
      "Iter 134/300 - Loss: 402.382 lengthscale: 0.240 noise: 1.812\n",
      "Iter 135/300 - Loss: 400.738 lengthscale: 0.239 noise: 1.812\n",
      "Iter 136/300 - Loss: 399.112 lengthscale: 0.239 noise: 1.813\n",
      "Iter 137/300 - Loss: 397.503 lengthscale: 0.239 noise: 1.813\n",
      "Iter 138/300 - Loss: 395.912 lengthscale: 0.239 noise: 1.814\n",
      "Iter 139/300 - Loss: 394.338 lengthscale: 0.239 noise: 1.814\n",
      "Iter 140/300 - Loss: 392.781 lengthscale: 0.239 noise: 1.814\n",
      "Iter 141/300 - Loss: 391.240 lengthscale: 0.239 noise: 1.815\n",
      "Iter 142/300 - Loss: 389.715 lengthscale: 0.239 noise: 1.815\n",
      "Iter 143/300 - Loss: 388.207 lengthscale: 0.239 noise: 1.815\n",
      "Iter 144/300 - Loss: 386.714 lengthscale: 0.238 noise: 1.816\n",
      "Iter 145/300 - Loss: 385.237 lengthscale: 0.238 noise: 1.816\n",
      "Iter 146/300 - Loss: 383.775 lengthscale: 0.238 noise: 1.816\n",
      "Iter 147/300 - Loss: 382.328 lengthscale: 0.238 noise: 1.817\n",
      "Iter 148/300 - Loss: 380.896 lengthscale: 0.238 noise: 1.817\n",
      "Iter 149/300 - Loss: 379.478 lengthscale: 0.238 noise: 1.817\n",
      "Iter 150/300 - Loss: 378.075 lengthscale: 0.238 noise: 1.817\n",
      "Iter 151/300 - Loss: 376.686 lengthscale: 0.238 noise: 1.818\n",
      "Iter 152/300 - Loss: 375.311 lengthscale: 0.238 noise: 1.818\n"
     ]
    },
    {
     "name": "stdout",
     "output_type": "stream",
     "text": [
      "Iter 153/300 - Loss: 373.950 lengthscale: 0.238 noise: 1.818\n",
      "Iter 154/300 - Loss: 372.602 lengthscale: 0.237 noise: 1.818\n",
      "Iter 155/300 - Loss: 371.267 lengthscale: 0.237 noise: 1.818\n",
      "Iter 156/300 - Loss: 369.946 lengthscale: 0.237 noise: 1.819\n",
      "Iter 157/300 - Loss: 368.637 lengthscale: 0.237 noise: 1.819\n",
      "Iter 158/300 - Loss: 367.342 lengthscale: 0.237 noise: 1.819\n",
      "Iter 159/300 - Loss: 366.058 lengthscale: 0.237 noise: 1.819\n",
      "Iter 160/300 - Loss: 364.787 lengthscale: 0.237 noise: 1.819\n",
      "Iter 161/300 - Loss: 363.529 lengthscale: 0.237 noise: 1.819\n",
      "Iter 162/300 - Loss: 362.282 lengthscale: 0.237 noise: 1.819\n",
      "Iter 163/300 - Loss: 361.047 lengthscale: 0.237 noise: 1.819\n",
      "Iter 164/300 - Loss: 359.824 lengthscale: 0.236 noise: 1.820\n",
      "Iter 165/300 - Loss: 358.612 lengthscale: 0.236 noise: 1.820\n",
      "Iter 166/300 - Loss: 357.412 lengthscale: 0.236 noise: 1.820\n",
      "Iter 167/300 - Loss: 356.223 lengthscale: 0.236 noise: 1.820\n",
      "Iter 168/300 - Loss: 355.044 lengthscale: 0.236 noise: 1.820\n",
      "Iter 169/300 - Loss: 353.877 lengthscale: 0.236 noise: 1.820\n",
      "Iter 170/300 - Loss: 352.720 lengthscale: 0.236 noise: 1.820\n",
      "Iter 171/300 - Loss: 351.575 lengthscale: 0.236 noise: 1.820\n",
      "Iter 172/300 - Loss: 350.439 lengthscale: 0.236 noise: 1.820\n",
      "Iter 173/300 - Loss: 349.314 lengthscale: 0.236 noise: 1.820\n",
      "Iter 174/300 - Loss: 348.199 lengthscale: 0.236 noise: 1.820\n",
      "Iter 175/300 - Loss: 347.093 lengthscale: 0.236 noise: 1.820\n",
      "Iter 176/300 - Loss: 345.998 lengthscale: 0.236 noise: 1.820\n",
      "Iter 177/300 - Loss: 344.913 lengthscale: 0.235 noise: 1.820\n",
      "Iter 178/300 - Loss: 343.837 lengthscale: 0.235 noise: 1.820\n",
      "Iter 179/300 - Loss: 342.770 lengthscale: 0.235 noise: 1.819\n",
      "Iter 180/300 - Loss: 341.713 lengthscale: 0.235 noise: 1.819\n",
      "Iter 181/300 - Loss: 340.665 lengthscale: 0.235 noise: 1.819\n",
      "Iter 182/300 - Loss: 339.626 lengthscale: 0.235 noise: 1.819\n",
      "Iter 183/300 - Loss: 338.596 lengthscale: 0.235 noise: 1.819\n",
      "Iter 184/300 - Loss: 337.576 lengthscale: 0.235 noise: 1.819\n",
      "Iter 185/300 - Loss: 336.563 lengthscale: 0.235 noise: 1.819\n",
      "Iter 186/300 - Loss: 335.560 lengthscale: 0.235 noise: 1.819\n",
      "Iter 187/300 - Loss: 334.565 lengthscale: 0.235 noise: 1.818\n",
      "Iter 188/300 - Loss: 333.578 lengthscale: 0.235 noise: 1.818\n",
      "Iter 189/300 - Loss: 332.600 lengthscale: 0.235 noise: 1.818\n",
      "Iter 190/300 - Loss: 331.630 lengthscale: 0.235 noise: 1.818\n",
      "Iter 191/300 - Loss: 330.667 lengthscale: 0.234 noise: 1.818\n",
      "Iter 192/300 - Loss: 329.714 lengthscale: 0.234 noise: 1.818\n",
      "Iter 193/300 - Loss: 328.767 lengthscale: 0.234 noise: 1.817\n",
      "Iter 194/300 - Loss: 327.829 lengthscale: 0.234 noise: 1.817\n",
      "Iter 195/300 - Loss: 326.898 lengthscale: 0.234 noise: 1.817\n",
      "Iter 196/300 - Loss: 325.975 lengthscale: 0.234 noise: 1.817\n",
      "Iter 197/300 - Loss: 325.060 lengthscale: 0.234 noise: 1.816\n",
      "Iter 198/300 - Loss: 324.152 lengthscale: 0.234 noise: 1.816\n",
      "Iter 199/300 - Loss: 323.251 lengthscale: 0.234 noise: 1.816\n",
      "Iter 200/300 - Loss: 322.357 lengthscale: 0.234 noise: 1.816\n",
      "Iter 201/300 - Loss: 321.471 lengthscale: 0.234 noise: 1.815\n",
      "Iter 202/300 - Loss: 320.591 lengthscale: 0.234 noise: 1.815\n",
      "Iter 203/300 - Loss: 319.719 lengthscale: 0.234 noise: 1.815\n",
      "Iter 204/300 - Loss: 318.853 lengthscale: 0.234 noise: 1.814\n",
      "Iter 205/300 - Loss: 317.994 lengthscale: 0.234 noise: 1.814\n",
      "Iter 206/300 - Loss: 317.142 lengthscale: 0.234 noise: 1.814\n",
      "Iter 207/300 - Loss: 316.297 lengthscale: 0.234 noise: 1.813\n",
      "Iter 208/300 - Loss: 315.458 lengthscale: 0.233 noise: 1.813\n",
      "Iter 209/300 - Loss: 314.625 lengthscale: 0.233 noise: 1.813\n",
      "Iter 210/300 - Loss: 313.799 lengthscale: 0.233 noise: 1.812\n",
      "Iter 211/300 - Loss: 312.980 lengthscale: 0.233 noise: 1.812\n",
      "Iter 212/300 - Loss: 312.166 lengthscale: 0.233 noise: 1.812\n",
      "Iter 213/300 - Loss: 311.359 lengthscale: 0.233 noise: 1.811\n",
      "Iter 214/300 - Loss: 310.557 lengthscale: 0.233 noise: 1.811\n",
      "Iter 215/300 - Loss: 309.762 lengthscale: 0.233 noise: 1.810\n",
      "Iter 216/300 - Loss: 308.973 lengthscale: 0.233 noise: 1.810\n",
      "Iter 217/300 - Loss: 308.190 lengthscale: 0.233 noise: 1.810\n",
      "Iter 218/300 - Loss: 307.412 lengthscale: 0.233 noise: 1.809\n",
      "Iter 219/300 - Loss: 306.640 lengthscale: 0.233 noise: 1.809\n",
      "Iter 220/300 - Loss: 305.875 lengthscale: 0.233 noise: 1.808\n",
      "Iter 221/300 - Loss: 305.114 lengthscale: 0.233 noise: 1.808\n",
      "Iter 222/300 - Loss: 304.359 lengthscale: 0.233 noise: 1.807\n",
      "Iter 223/300 - Loss: 303.610 lengthscale: 0.233 noise: 1.807\n",
      "Iter 224/300 - Loss: 302.866 lengthscale: 0.233 noise: 1.806\n",
      "Iter 225/300 - Loss: 302.127 lengthscale: 0.233 noise: 1.806\n",
      "Iter 226/300 - Loss: 301.394 lengthscale: 0.233 noise: 1.805\n",
      "Iter 227/300 - Loss: 300.666 lengthscale: 0.232 noise: 1.805\n",
      "Iter 228/300 - Loss: 299.943 lengthscale: 0.232 noise: 1.804\n",
      "Iter 229/300 - Loss: 299.226 lengthscale: 0.232 noise: 1.804\n",
      "Iter 230/300 - Loss: 298.513 lengthscale: 0.232 noise: 1.803\n",
      "Iter 231/300 - Loss: 297.806 lengthscale: 0.232 noise: 1.803\n",
      "Iter 232/300 - Loss: 297.103 lengthscale: 0.232 noise: 1.802\n",
      "Iter 233/300 - Loss: 296.405 lengthscale: 0.232 noise: 1.802\n",
      "Iter 234/300 - Loss: 295.712 lengthscale: 0.232 noise: 1.801\n",
      "Iter 235/300 - Loss: 295.024 lengthscale: 0.232 noise: 1.800\n",
      "Iter 236/300 - Loss: 294.341 lengthscale: 0.232 noise: 1.800\n",
      "Iter 237/300 - Loss: 293.663 lengthscale: 0.232 noise: 1.799\n",
      "Iter 238/300 - Loss: 292.989 lengthscale: 0.232 noise: 1.799\n",
      "Iter 239/300 - Loss: 292.319 lengthscale: 0.232 noise: 1.798\n",
      "Iter 240/300 - Loss: 291.655 lengthscale: 0.232 noise: 1.797\n",
      "Iter 241/300 - Loss: 290.995 lengthscale: 0.232 noise: 1.797\n",
      "Iter 242/300 - Loss: 290.339 lengthscale: 0.232 noise: 1.796\n",
      "Iter 243/300 - Loss: 289.687 lengthscale: 0.232 noise: 1.795\n",
      "Iter 244/300 - Loss: 289.040 lengthscale: 0.232 noise: 1.795\n",
      "Iter 245/300 - Loss: 288.398 lengthscale: 0.232 noise: 1.794\n",
      "Iter 246/300 - Loss: 287.759 lengthscale: 0.232 noise: 1.793\n",
      "Iter 247/300 - Loss: 287.125 lengthscale: 0.232 noise: 1.793\n",
      "Iter 248/300 - Loss: 286.495 lengthscale: 0.232 noise: 1.792\n",
      "Iter 249/300 - Loss: 285.869 lengthscale: 0.232 noise: 1.791\n",
      "Iter 250/300 - Loss: 285.248 lengthscale: 0.232 noise: 1.791\n",
      "Iter 251/300 - Loss: 284.630 lengthscale: 0.231 noise: 1.790\n",
      "Iter 252/300 - Loss: 284.016 lengthscale: 0.231 noise: 1.789\n",
      "Iter 253/300 - Loss: 283.406 lengthscale: 0.231 noise: 1.789\n",
      "Iter 254/300 - Loss: 282.800 lengthscale: 0.231 noise: 1.788\n",
      "Iter 255/300 - Loss: 282.198 lengthscale: 0.231 noise: 1.787\n",
      "Iter 256/300 - Loss: 281.600 lengthscale: 0.231 noise: 1.786\n",
      "Iter 257/300 - Loss: 281.006 lengthscale: 0.231 noise: 1.786\n",
      "Iter 258/300 - Loss: 280.416 lengthscale: 0.231 noise: 1.785\n",
      "Iter 259/300 - Loss: 279.829 lengthscale: 0.231 noise: 1.784\n",
      "Iter 260/300 - Loss: 279.246 lengthscale: 0.231 noise: 1.783\n",
      "Iter 261/300 - Loss: 278.666 lengthscale: 0.231 noise: 1.783\n",
      "Iter 262/300 - Loss: 278.090 lengthscale: 0.231 noise: 1.782\n",
      "Iter 263/300 - Loss: 277.518 lengthscale: 0.231 noise: 1.781\n",
      "Iter 264/300 - Loss: 276.950 lengthscale: 0.231 noise: 1.780\n",
      "Iter 265/300 - Loss: 276.384 lengthscale: 0.231 noise: 1.779\n",
      "Iter 266/300 - Loss: 275.823 lengthscale: 0.231 noise: 1.779\n",
      "Iter 267/300 - Loss: 275.264 lengthscale: 0.231 noise: 1.778\n",
      "Iter 268/300 - Loss: 274.710 lengthscale: 0.231 noise: 1.777\n",
      "Iter 269/300 - Loss: 274.158 lengthscale: 0.231 noise: 1.776\n",
      "Iter 270/300 - Loss: 273.610 lengthscale: 0.231 noise: 1.775\n",
      "Iter 271/300 - Loss: 273.065 lengthscale: 0.231 noise: 1.774\n",
      "Iter 272/300 - Loss: 272.524 lengthscale: 0.231 noise: 1.774\n",
      "Iter 273/300 - Loss: 271.985 lengthscale: 0.231 noise: 1.773\n",
      "Iter 274/300 - Loss: 271.450 lengthscale: 0.231 noise: 1.772\n",
      "Iter 275/300 - Loss: 270.919 lengthscale: 0.231 noise: 1.771\n",
      "Iter 276/300 - Loss: 270.390 lengthscale: 0.231 noise: 1.770\n",
      "Iter 277/300 - Loss: 269.864 lengthscale: 0.231 noise: 1.769\n",
      "Iter 278/300 - Loss: 269.342 lengthscale: 0.231 noise: 1.768\n",
      "Iter 279/300 - Loss: 268.822 lengthscale: 0.230 noise: 1.767\n",
      "Iter 280/300 - Loss: 268.306 lengthscale: 0.230 noise: 1.766\n",
      "Iter 281/300 - Loss: 267.792 lengthscale: 0.230 noise: 1.765\n",
      "Iter 282/300 - Loss: 267.282 lengthscale: 0.230 noise: 1.765\n",
      "Iter 283/300 - Loss: 266.775 lengthscale: 0.230 noise: 1.764\n",
      "Iter 284/300 - Loss: 266.270 lengthscale: 0.230 noise: 1.763\n",
      "Iter 285/300 - Loss: 265.768 lengthscale: 0.230 noise: 1.762\n",
      "Iter 286/300 - Loss: 265.269 lengthscale: 0.230 noise: 1.761\n",
      "Iter 287/300 - Loss: 264.774 lengthscale: 0.230 noise: 1.760\n",
      "Iter 288/300 - Loss: 264.280 lengthscale: 0.230 noise: 1.759\n"
     ]
    },
    {
     "name": "stdout",
     "output_type": "stream",
     "text": [
      "Iter 289/300 - Loss: 263.790 lengthscale: 0.230 noise: 1.758\n",
      "Iter 290/300 - Loss: 263.302 lengthscale: 0.230 noise: 1.757\n",
      "Iter 291/300 - Loss: 262.818 lengthscale: 0.230 noise: 1.756\n",
      "Iter 292/300 - Loss: 262.335 lengthscale: 0.230 noise: 1.755\n",
      "Iter 293/300 - Loss: 261.856 lengthscale: 0.230 noise: 1.754\n",
      "Iter 294/300 - Loss: 261.379 lengthscale: 0.230 noise: 1.753\n",
      "Iter 295/300 - Loss: 260.905 lengthscale: 0.230 noise: 1.752\n",
      "Iter 296/300 - Loss: 260.433 lengthscale: 0.230 noise: 1.751\n",
      "Iter 297/300 - Loss: 259.964 lengthscale: 0.230 noise: 1.750\n",
      "Iter 298/300 - Loss: 259.498 lengthscale: 0.230 noise: 1.749\n",
      "Iter 299/300 - Loss: 259.034 lengthscale: 0.230 noise: 1.748\n",
      "Iter 300/300 - Loss: 258.573 lengthscale: 0.230 noise: 1.746\n"
     ]
    }
   ],
   "source": [
    "likelihood = gpytorch.likelihoods.MultitaskGaussianLikelihood(num_tasks=2)\n",
    "model = MultitaskGPModel(train_x, train_y, likelihood)\n",
    "\n",
    "model.train()\n",
    "likelihood.train()\n",
    "\n",
    "# Use the adam optimizer\n",
    "optimizer = torch.optim.Adam([\n",
    "    {'params': model.parameters()},  # Includes GaussianLikelihood parameters\n",
    "], lr=0.1)\n",
    "\n",
    "# \"Loss\" for GPs - the marginal log likelihood\n",
    "mll = gpytorch.mlls.ExactMarginalLogLikelihood(likelihood, model)\n",
    "\n",
    "n_iter = 300\n",
    "for i in range(n_iter):\n",
    "    optimizer.zero_grad()\n",
    "    output = model(train_x)\n",
    "    loss = -mll(output, train_y)\n",
    "    loss.backward()\n",
    "    print('Iter %d/%d - Loss: %.3f lengthscale: %.3f noise: %.3f' % (i + 1, n_iter, loss.item(), model.covar_module.data_covar_module.base_kernel.lengthscale, likelihood.noise))\n",
    "    \n",
    "    optimizer.step()"
   ]
  },
  {
   "cell_type": "markdown",
   "metadata": {},
   "source": [
    "Use the fitted model to predict the call and put values of the test set"
   ]
  },
  {
   "cell_type": "code",
   "execution_count": 12,
   "metadata": {},
   "outputs": [],
   "source": [
    "model.eval()\n",
    "likelihood.eval()\n",
    "with torch.no_grad(), gpytorch.settings.fast_pred_var():\n",
    "    y_hat = likelihood(model(test_x))\n",
    "lower, upper = y_hat.confidence_region()"
   ]
  },
  {
   "cell_type": "markdown",
   "metadata": {},
   "source": [
    "Print the fitted parameters"
   ]
  },
  {
   "cell_type": "code",
   "execution_count": 13,
   "metadata": {
    "scrolled": true
   },
   "outputs": [
    {
     "name": "stdout",
     "output_type": "stream",
     "text": [
      "tensor([[0.2299]], grad_fn=<SoftplusBackward>)\n",
      "tensor([1.7454], grad_fn=<AddBackward0>)\n",
      "2.5\n",
      "[[18.370888  -0.8960136]\n",
      " [-0.8960136  7.092246 ]]\n"
     ]
    }
   ],
   "source": [
    "a = model.covar_module.task_covar_module.covar_factor.clone().detach()\n",
    "v = model.covar_module.task_covar_module.var.clone().detach()\n",
    "Omega = np.outer(a,a) + np.diag(v)\n",
    "lengthscale = model.covar_module.data_covar_module.base_kernel.lengthscale\n",
    "sigma_2_n = likelihood.noise\n",
    "nu = model.covar_module.data_covar_module.base_kernel.nu\n",
    "print(lengthscale, sigma_2_n, nu, Omega, sep='\\n')"
   ]
  },
  {
   "cell_type": "markdown",
   "metadata": {},
   "source": [
    "Plot the predictions of the model, with variance bands"
   ]
  },
  {
   "cell_type": "code",
   "execution_count": 14,
   "metadata": {
    "scrolled": false
   },
   "outputs": [
    {
     "data": {
      "image/png": "[encoded data removed]",
      "text/plain": [
       "<Figure size 720x432 with 1 Axes>"
      ]
     },
     "metadata": {},
     "output_type": "display_data"
    },
    {
     "data": {
      "image/png": "[encoded data removed]",
      "text/plain": [
       "<Figure size 720x432 with 1 Axes>"
      ]
     },
     "metadata": {},
     "output_type": "display_data"
    },
    {
     "data": {
      "image/png": "[encoded data removed]",
      "text/plain": [
       "<Figure size 720x432 with 1 Axes>"
      ]
     },
     "metadata": {},
     "output_type": "display_data"
    }
   ],
   "source": [
    "plt.figure(figsize = (10, 6), facecolor='white', edgecolor='black')\n",
    "plt.plot(lb+(ub-lb)*np.array(test_x.flatten()), np.array(y_hat.mean[:,0]), color = 'red', label = 'GP Prediction')\n",
    "plt.plot(lb+(ub-lb)*np.array(test_x.flatten()), np.array(test_y[:,0]), color = 'black', label = 'Analytical Model')\n",
    "plt.scatter(lb+(ub-lb)*train_x, train_y[:,0], color = 'black', marker = '+', s = 100) \n",
    "plt.fill_between(lb+(ub-lb)*np.array(test_x.flatten()), lower[:,0].detach().numpy(), upper[:,0].detach().numpy(), color = 'grey', alpha=0.3)\n",
    "plt.legend(loc = 'best', prop={'size':10})\n",
    "plt.xlim([KC/2.0,2*KC])\n",
    "plt.xlabel('S')\n",
    "plt.ylabel('V')\n",
    "\n",
    "\n",
    "plt.figure(figsize = (10, 6), facecolor='white', edgecolor='black')\n",
    "plt.plot(lb+(ub-lb)*np.array(test_x.flatten()), np.array(y_hat.mean[:,1]), color = 'red', label = 'GP Prediction')\n",
    "plt.plot(lb+(ub-lb)*np.array(test_x.flatten()), np.array(test_y[:,1]), color = 'black', label = 'Analytical Model')\n",
    "plt.scatter(lb+(ub-lb)*train_x, train_y[:,1], color = 'black', marker = '+', s = 100) \n",
    "plt.fill_between(lb+(ub-lb)*np.array(test_x.flatten()), lower[:,1].detach().numpy(), upper[:,1].detach().numpy(), color = 'grey', alpha=0.3)\n",
    "plt.legend(loc = 'best', prop={'size':10})\n",
    "plt.xlim([KP/2.0,2*KP])\n",
    "plt.xlabel('S')\n",
    "plt.ylabel('V')\n",
    "\n",
    "\n",
    "plt.figure(figsize = (10, 6), facecolor='white', edgecolor='black')\n",
    "plt.plot(lb+(ub-lb)*np.array(test_x.flatten()), 2.0*np.array(y_hat.mean[:,0])- np.array(y_hat.mean[:,1]), color = 'red', label = 'GP Prediction')\n",
    "plt.plot(lb+(ub-lb)*np.array(test_x.flatten()), 2.0*np.array(test_y[:,0])-np.array(test_y[:,1]) , color = 'black', label = 'Analytical Model')\n",
    "plt.scatter(lb+(ub-lb)*train_x, 2*train_y[:,0]-train_y[:,1], color = 'black', marker = '+', s = 100) \n",
    "\n",
    "plt.fill_between(lb+(ub-lb)*np.array(test_x.flatten()), 2.0*lower[:,0].detach().numpy()-upper[:,1].detach().numpy() , 2.0*upper[:,0].detach().numpy()-lower[:,1].detach().numpy(), color = 'grey', alpha=0.3)\n",
    "plt.legend(loc = 'best', prop={'size':10})\n",
    "plt.xlim([KP/2.0,2*KC])\n",
    "plt.xlabel('S')\n",
    "plt.ylabel('$\\pi$');"
   ]
  },
  {
   "cell_type": "markdown",
   "metadata": {},
   "source": [
    "## Evaluate the covariance of the posterior"
   ]
  },
  {
   "cell_type": "code",
   "execution_count": 15,
   "metadata": {},
   "outputs": [],
   "source": [
    "var_1 = np.diag(np.array(y_hat.covariance_matrix.detach().numpy()),0)[0:199:2]\n",
    "var_2 = np.diag(np.array(y_hat.covariance_matrix.detach().numpy()),0)[1:199:2]\n",
    "covar_12 = np.diag(np.array(y_hat.covariance_matrix.detach().numpy()),1)[0:199:2]"
   ]
  },
  {
   "cell_type": "code",
   "execution_count": 16,
   "metadata": {},
   "outputs": [
    {
     "name": "stderr",
     "output_type": "stream",
     "text": [
      "/Users/dez/opt/anaconda3/envs/malifice/lib/python3.6/site-packages/scipy/stats/_continuous_distns.py:547: RuntimeWarning: invalid value encountered in sqrt\n",
      "  sk = 2*(b-a)*np.sqrt(a + b + 1) / (a + b + 2) / np.sqrt(a*b)\n",
      "/Users/dez/opt/anaconda3/envs/malifice/lib/python3.6/site-packages/scipy/optimize/minpack.py:162: RuntimeWarning: The iteration is not making good progress, as measured by the \n",
      "  improvement from the last ten iterations.\n",
      "  warnings.warn(msg, RuntimeWarning)\n"
     ]
    },
    {
     "data": {
      "image/png": "[encoded data removed]",
      "text/plain": [
       "<Figure size 432x288 with 1 Axes>"
      ]
     },
     "metadata": {
      "needs_background": "light"
     },
     "output_type": "display_data"
    }
   ],
   "source": [
    "lnspc = np.linspace(-5.0, 30, 100)\n",
    "\n",
    "ab,bb,cb,db = stats.beta.fit(var_1)  \n",
    "pdf_beta = stats.beta.pdf(lnspc, ab, bb, cb, db)  \n",
    "plt.plot(lnspc, pdf_beta, label='var($f_{*1}$ $\\|$ $X,Y,X_*$)', color='r')\n",
    "\n",
    "ab,bb,cb,db = stats.beta.fit(var_2)  \n",
    "pdf_beta = stats.beta.pdf(lnspc, ab, bb, cb, db)  \n",
    "plt.plot(lnspc, pdf_beta, label='var($f_{*2}$ $\\|$ $X,Y,X_*$)', color='k')\n",
    "\n",
    "ab,bb,cb,db = stats.beta.fit(covar_12)  \n",
    "pdf_beta = stats.beta.pdf(lnspc, ab, bb, cb, db)  \n",
    "plt.plot(lnspc, pdf_beta, label='covar($f_{*1}f_{*2}$ $\\|$ $X,Y,X_*$)', color=\"grey\", linestyle='--')\n",
    "\n",
    "plt.xlabel('uncertainty')\n",
    "plt.ylabel('density')\n",
    "plt.legend()\n",
    "plt.show()"
   ]
  }
 ],
 "metadata": {
  "kernelspec": {
   "display_name": "Python 3",
   "language": "python",
   "name": "python3"
  },
  "language_info": {
   "codemirror_mode": {
    "name": "ipython",
    "version": 3
   },
   "file_extension": ".py",
   "mimetype": "text/x-python",
   "name": "python",
   "nbconvert_exporter": "python",
   "pygments_lexer": "ipython3",
   "version": "3.6.10"
  }
 },
 "nbformat": 4,
 "nbformat_minor": 2
}
